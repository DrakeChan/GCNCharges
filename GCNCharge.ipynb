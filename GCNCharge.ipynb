{
 "cells": [
  {
   "cell_type": "code",
   "execution_count": 2,
   "id": "0c1c4ee0-097d-47d2-99ce-eee62846ded4",
   "metadata": {},
   "outputs": [],
   "source": [
    "import GCNCharge4notebook"
   ]
  },
  {
   "cell_type": "markdown",
   "id": "da4315be-2863-4f95-80f5-7da81834b073",
   "metadata": {},
   "source": [
    "### file: your folder contains cif files\n",
    "### model: MOF or COF"
   ]
  },
  {
   "cell_type": "code",
   "execution_count": 3,
   "id": "028c1898-1235-4e16-853d-5935d6b59a5d",
   "metadata": {},
   "outputs": [
    {
     "name": "stdout",
     "output_type": "stream",
     "text": [
      "model name: MOF\n",
      "Using device: cuda\n"
     ]
    },
    {
     "name": "stderr",
     "output_type": "stream",
     "text": [
      "  0%|          | 0/1 [00:00<?, ?it/s]/root/anaconda3/envs/qmof/lib/python3.9/site-packages/pymatgen/io/cif.py:1186: UserWarning: The default value of primitive was changed from True to False in https://github.com/materialsproject/pymatgen/pull/3419. CifParser now returns the cell in the CIF file as is. If you want the primitive cell, please set primitive=True explicitly.\n",
      "  warnings.warn(\n",
      "100%|██████████| 1/1 [00:03<00:00,  3.07s/it]"
     ]
    },
    {
     "name": "stdout",
     "output_type": "stream",
     "text": [
      "writing cif: ./test/test_cubtc/Cu-BTC_gcn.cif\n"
     ]
    },
    {
     "name": "stderr",
     "output_type": "stream",
     "text": [
      "\n"
     ]
    }
   ],
   "source": [
    "GCNCharge4notebook.GCNChagre(file=\"./test/test_cubtc/\",model=\"MOF\")"
   ]
  },
  {
   "cell_type": "code",
   "execution_count": null,
   "id": "b63be81e-ed44-4564-aa2f-a1f6a0f62d2c",
   "metadata": {},
   "outputs": [],
   "source": []
  }
 ],
 "metadata": {
  "kernelspec": {
   "display_name": "Python 3",
   "language": "python",
   "name": "python3"
  },
  "language_info": {
   "codemirror_mode": {
    "name": "ipython",
    "version": 3
   },
   "file_extension": ".py",
   "mimetype": "text/x-python",
   "name": "python",
   "nbconvert_exporter": "python",
   "pygments_lexer": "ipython3",
   "version": "3.9.18"
  }
 },
 "nbformat": 4,
 "nbformat_minor": 5
}
